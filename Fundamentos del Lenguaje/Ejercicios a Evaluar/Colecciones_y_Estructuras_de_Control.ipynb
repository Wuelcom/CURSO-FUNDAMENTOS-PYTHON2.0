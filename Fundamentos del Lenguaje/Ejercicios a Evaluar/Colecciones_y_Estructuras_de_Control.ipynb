{
 "cells": [
  {
   "cell_type": "markdown",
   "metadata": {},
   "source": [
    "1. Gestión de Inventario de Productos\n",
    "Descripción:\n",
    "Se debe desarrollar un sistema que administre un inventario compuesto por productos y sus cantidades. El programa presentará el listado inicial y resaltará aquellos artículos cuyo stock esté por debajo de un umbral definido. Luego, permitirá actualizar la cantidad de un producto específico, mostrando el inventario antes y después de la modificación."
   ]
  },
  {
   "cell_type": "code",
   "execution_count": null,
   "metadata": {
    "vscode": {
     "languageId": "plaintext"
    }
   },
   "outputs": [],
   "source": [
    "class Inventario:\n",
    "    def __init__(self, umbral=5):\n",
    "        self.productos = [\n",
    "            [\"Manzanas\", 10],\n",
    "            [\"Plátanos\", 3],\n",
    "            [\"Naranjas\", 7],\n",
    "            [\"Leche\", 2],\n",
    "            [\"Pan\", 6]\n",
    "        ]\n",
    "        self.umbral = umbral\n",
    "\n",
    "    def mostrar_inventario(self):\n",
    "        print(\"\\nInventario actual:\")\n",
    "        for nombre, cantidad in self.productos:\n",
    "            alerta = \" <-- Bajo stock!\" if cantidad < self.umbral else \"\"\n",
    "            print(f\"{nombre}: {cantidad}{alerta}\")\n",
    "\n",
    "    def actualizar_producto(self, nombre_producto, nueva_cantidad):\n",
    "        encontrado = False\n",
    "        for producto in self.productos:\n",
    "            if producto[0].lower() == nombre_producto.lower(): \n",
    "                print(f\"\\nActualizando {nombre_producto}...\")\n",
    "                print(f\"Cantidad anterior: {producto[1]}\")\n",
    "                producto[1] = nueva_cantidad\n",
    "                print(f\"Cantidad actualizada: {producto[1]}\")\n",
    "                encontrado = True\n",
    "                break\n",
    "        if not encontrado:\n",
    "            print(\"Producto no encontrado en el inventario.\")\n",
    "\n",
    "inventario = Inventario()\n",
    "inventario.mostrar_inventario()\n",
    "\n",
    "producto = input(\"Ingrese el nombre del producto a actualizar: \")\n",
    "cantidad = int(input(\"Ingrese la nueva cantidad: \"))\n",
    "inventario.actualizar_producto(producto, cantidad)\n",
    "\n",
    "inventario.mostrar_inventario()\n"
   ]
  },
  {
   "cell_type": "markdown",
   "metadata": {},
   "source": [
    "2. Búsqueda de Palabras en un Texto\n",
    "Descripción:\n",
    "Crea una aplicación que solicite al usuario un párrafo y, a continuación, le permita buscar una palabra específica. El sistema debe contar cuántas veces aparece dicha palabra en el texto, mostrar las posiciones donde se encuentra (sin distinguir mayúsculas de minúsculas) y comunicar el resultado al usuario.\n",
    "\n"
   ]
  },
  {
   "cell_type": "code",
   "execution_count": null,
   "metadata": {
    "vscode": {
     "languageId": "plaintext"
    }
   },
   "outputs": [],
   "source": [
    "def buscar_palabra(texto, palabra):\n",
    "    texto = texto.lower()\n",
    "    palabra = palabra.lower()\n",
    "    posiciones = []\n",
    "    indice = texto.find(palabra)\n",
    "    \n",
    "    while indice != -1:\n",
    "        posiciones.append(indice)\n",
    "        indice = texto.find(palabra, indice + 1)\n",
    "    \n",
    "    return len(posiciones), posiciones\n",
    "\n",
    "\n",
    "parrafo = input(\"Ingrese un párrafo:\\n\")\n",
    "\n",
    "palabra_buscada = input(\"\\nIngrese la palabra a buscar:\\n\")\n",
    "\n",
    "conteo, posiciones = buscar_palabra(parrafo, palabra_buscada)\n",
    "\n",
    "if conteo > 0:\n",
    "    print(f\"\\nLa palabra '{palabra_buscada}' aparece {conteo} veces en las posiciones: {posiciones}\")\n",
    "else:\n",
    "    print(f\"\\nLa palabra '{palabra_buscada}' no se encontró en el texto.\")\n"
   ]
  },
  {
   "cell_type": "markdown",
   "metadata": {},
   "source": [
    "3. Conversión y Limpieza de Texto\n",
    "Descripción:\n",
    "Diseña una solución que pida al usuario una frase, la divida en palabras y elimine cualquier carácter no alfabético de cada una. Una vez procesada la información, la estructura resultante se transformará en una forma inmutable, y se presentará el contenido final al usuario de manera ordenada."
   ]
  },
  {
   "cell_type": "code",
   "execution_count": null,
   "metadata": {
    "vscode": {
     "languageId": "plaintext"
    }
   },
   "outputs": [],
   "source": [
    "import re\n",
    "\n",
    "def limpiar_palabras(frase):\n",
    "    palabras = frase.split()\n",
    "    \n",
    "    palabras_limpias = [re.sub(r'[^a-zA-Z]', '', palabra) for palabra in palabras]\n",
    "    \n",
    "    palabras_finales = tuple(palabras_limpias)\n",
    "    \n",
    "    return palabras_finales\n",
    "\n",
    "frase_usuario = input(\"Ingrese una frase:\\n\")\n",
    "\n",
    "resultado = limpiar_palabras(frase_usuario)\n",
    "\n",
    "print(\"\\nPalabras procesadas y ordenadas:\")\n",
    "for palabra in sorted(resultado):\n",
    "    print(palabra)"
   ]
  },
  {
   "cell_type": "markdown",
   "metadata": {},
   "source": [
    "4. Registro y Consulta de Calificaciones de Exámenes\n",
    "Descripción:\n",
    "Implementa un sistema que gestione un registro de estudiantes y sus calificaciones. El programa debe permitir agregar nuevos registros, listar todos los existentes y consultar la calificación de un estudiante introduciendo su nombre. Se espera que la información se actualice y se presente de forma clara en cada paso."
   ]
  },
  {
   "cell_type": "code",
   "execution_count": null,
   "metadata": {
    "vscode": {
     "languageId": "plaintext"
    }
   },
   "outputs": [],
   "source": [
    "class RegistroCalificaciones:\n",
    "    def __init__(self):\n",
    "        self.calificaciones = {}\n",
    "\n",
    "    def agregar_calificacion(self, nombre, calificacion):\n",
    "        self.calificaciones[nombre] = calificacion\n",
    "        print(f\"\\n✅ Calificación de {nombre} registrada correctamente.\")\n",
    "\n",
    "    def listar_calificaciones(self):\n",
    "        if not self.calificaciones:\n",
    "            print(\"\\n📌 No hay calificaciones registradas.\")\n",
    "        else:\n",
    "            print(\"\\n📋 Lista de calificaciones:\")\n",
    "            for nombre, calificacion in self.calificaciones.items():\n",
    "                print(f\"{nombre}: {calificacion}\")\n",
    "\n",
    "    def consultar_calificacion(self, nombre):\n",
    "        if nombre in self.calificaciones:\n",
    "            print(f\"\\n🎓 {nombre} tiene una calificación de {self.calificaciones[nombre]}.\")\n",
    "        else:\n",
    "            print(f\"\\n❌ No se encontró una calificación para {nombre}.\")\n",
    "\n",
    "registro = RegistroCalificaciones()\n",
    "\n",
    "while True:\n",
    "    print(\"\\n📚 MENÚ: \")\n",
    "    print(\"1. Agregar calificación\")\n",
    "    print(\"2. Listar calificaciones\")\n",
    "    print(\"3. Consultar calificación\")\n",
    "    print(\"4. Salir\")\n",
    "\n",
    "    opcion = input(\"Seleccione una opción: \")\n",
    "\n",
    "    if opcion == \"1\":\n",
    "        nombre = input(\"\\nIngrese el nombre del estudiante: \")\n",
    "        try:\n",
    "            calificacion = float(input(\"Ingrese la calificación: \"))\n",
    "            registro.agregar_calificacion(nombre, calificacion)\n",
    "        except ValueError:\n",
    "            print(\"\\n⚠️ Error: Ingrese un número válido para la calificación.\")\n",
    "\n",
    "    elif opcion == \"2\":\n",
    "        registro.listar_calificaciones()\n",
    "\n",
    "    elif opcion == \"3\":\n",
    "        nombre = input(\"\\nIngrese el nombre del estudiante a consultar: \")\n",
    "        registro.consultar_calificacion(nombre)\n",
    "\n",
    "    elif opcion == \"4\":\n",
    "        print(\"\\n👋 Saliendo del sistema...\")\n",
    "        break\n",
    "\n",
    "    else:\n",
    "        print(\"\\n⚠️ Opción no válida. Intente de nuevo.\")\n"
   ]
  },
  {
   "cell_type": "markdown",
   "metadata": {},
   "source": [
    "5. Calculadora de Estadísticas de Números\n",
    "Descripción:\n",
    "Desarrolla una aplicación que trabaje con una colección de números predefinidos. El sistema debe ofrecer al usuario un menú interactivo con opciones para calcular el promedio, identificar el valor máximo y mínimo, o eliminar un número. Tras cada operación, se mostrará tanto el resultado como el estado actual de la colección."
   ]
  },
  {
   "cell_type": "code",
   "execution_count": null,
   "metadata": {
    "vscode": {
     "languageId": "plaintext"
    }
   },
   "outputs": [],
   "source": [
    "class CalculadoraEstadisticas:\n",
    "    def __init__(self, numeros):\n",
    "        self.numeros = numeros  \n",
    "\n",
    "    def calcular_promedio(self):\n",
    "        if self.numeros:\n",
    "            promedio = sum(self.numeros) / len(self.numeros)\n",
    "            print(f\"\\n📊 Promedio: {promedio:.2f}\")\n",
    "        else:\n",
    "            print(\"\\n⚠️ No hay números en la colección.\")\n",
    "\n",
    "    def encontrar_maximo(self):\n",
    "        if self.numeros:\n",
    "            print(f\"\\n🔝 Valor máximo: {max(self.numeros)}\")\n",
    "        else:\n",
    "            print(\"\\n⚠️ No hay números en la colección.\")\n",
    "\n",
    "    def encontrar_minimo(self):\n",
    "        if self.numeros:\n",
    "            print(f\"\\n🔽 Valor mínimo: {min(self.numeros)}\")\n",
    "        else:\n",
    "            print(\"\\n⚠️ No hay números en la colección.\")\n",
    "\n",
    "    def eliminar_numero(self, numero):\n",
    "        if numero in self.numeros:\n",
    "            self.numeros.remove(numero)\n",
    "            print(f\"\\n✅ Número {numero} eliminado con éxito.\")\n",
    "        else:\n",
    "            print(f\"\\n❌ El número {numero} no está en la colección.\")\n",
    "\n",
    "    def mostrar_numeros(self):\n",
    "        print(\"\\n📌 Colección actual de números:\", self.numeros if self.numeros else \"Vacía\")\n",
    "\n",
    "numeros_iniciales = [10, 25, 32, 47, 58, 63, 79, 84, 91, 100]\n",
    "calculadora = CalculadoraEstadisticas(numeros_iniciales)\n",
    "\n",
    "while True:\n",
    "    print(\"\\n📊 MENÚ:\")\n",
    "    print(\"1. Calcular promedio\")\n",
    "    print(\"2. Encontrar valor máximo\")\n",
    "    print(\"3. Encontrar valor mínimo\")\n",
    "    print(\"4. Eliminar un número\")\n",
    "    print(\"5. Mostrar colección\")\n",
    "    print(\"6. Salir\")\n",
    "\n",
    "    opcion = input(\"Seleccione una opción: \")\n",
    "\n",
    "    if opcion == \"1\":\n",
    "        calculadora.calcular_promedio()\n",
    "\n",
    "    elif opcion == \"2\":\n",
    "        calculadora.encontrar_maximo()\n",
    "\n",
    "    elif opcion == \"3\":\n",
    "        calculadora.encontrar_minimo()\n",
    "\n",
    "    elif opcion == \"4\":\n",
    "        try:\n",
    "            numero = int(input(\"\\nIngrese el número a eliminar: \"))\n",
    "            calculadora.eliminar_numero(numero)\n",
    "        except ValueError:\n",
    "            print(\"\\n⚠️ Error: Ingrese un número válido.\")\n",
    "\n",
    "    elif opcion == \"5\":\n",
    "        calculadora.mostrar_numeros()\n",
    "\n",
    "    elif opcion == \"6\":\n",
    "        print(\"\\n👋 Saliendo del sistema...\")\n",
    "        break\n",
    "\n",
    "    else:\n",
    "        print(\"\\n⚠️ Opción no válida. Intente de nuevo.\")\n"
   ]
  }
 ],
 "metadata": {
  "kernelspec": {
   "display_name": "Python 3",
   "language": "python",
   "name": "python3"
  },
  "language_info": {
   "codemirror_mode": {
    "name": "ipython",
    "version": 3
   },
   "file_extension": ".py",
   "mimetype": "text/x-python",
   "name": "python",
   "nbconvert_exporter": "python",
   "pygments_lexer": "ipython3",
   "version": "3.13.0"
  }
 },
 "nbformat": 4,
 "nbformat_minor": 2
}
